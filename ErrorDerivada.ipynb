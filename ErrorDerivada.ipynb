{
 "cells": [
  {
   "cell_type": "code",
   "execution_count": 3,
   "metadata": {},
   "outputs": [
    {
     "name": "stdout",
     "output_type": "stream",
     "text": [
      "x**2 - x\n"
     ]
    }
   ],
   "source": [
    "from math import *\n",
    "import numpy as np  \n",
    "\n",
    "from sympy import Symbol \n",
    "x=Symbol('x') \n",
    "F_X=x**2-x\n",
    "#F_X=x*(x-1)\n",
    "print(F_X)\n"
   ]
  },
  {
   "cell_type": "code",
   "execution_count": 2,
   "metadata": {},
   "outputs": [
    {
     "name": "stdout",
     "output_type": "stream",
     "text": [
      "Lista datos Obtenidos modo Experimental 'Python'\n",
      "[1.0099999999999998, 1.0001000000000002, 1.0000010000000001, 1.00000001, 1.0000000001, 1.000000000001, 1.0000000000000102]\n",
      "Lista datos Obtenidos modo Vteoricco 'Analitico'\n",
      "[1.01, 1.0001, 1.000001, 1.00000001, 1, 1, 1]\n",
      "lista el erro modo porcentual\n",
      "[2.1984614349013e-14, 2.2202240268476282e-14, 2.2204438288064846e-14, 0.0, 1.000000082740371e-08, 1.000088900582341e-10, 1.021405182655144e-12]\n"
     ]
    }
   ],
   "source": [
    "def func():\n",
    "    dx=[1e-2, 1e-4, 1e-6, 1e-8, 1e-10, 1e-12, 1e-14]\n",
    "    FDX_i=[1.01, 1.0001, 1.000001, 1.00000001, 1, 1, 1]\n",
    "    Error=[]\n",
    "    Vteo=[]\n",
    "    for i in dx:\n",
    "        x=1\n",
    "        fi=i+2*x-1\n",
    "        Error.append(fi) #\n",
    "    print(\"Lista datos Obtenidos modo Experimental 'Python'\")\n",
    "    print(Error)\n",
    "    print(\"Lista datos Obtenidos modo Vteoricco 'Analitico'\")\n",
    "    print(FDX_i)\n",
    "    for j in range(0,7):\n",
    "        Vteo.append(abs((FDX_i[j]-Error[j])/FDX_i[j])*100)\n",
    "    print(\"lista el erro modo porcentual\")\n",
    "    print(Vteo)\n",
    "func()\n"
   ]
  },
  {
   "cell_type": "code",
   "execution_count": null,
   "metadata": {},
   "outputs": [],
   "source": []
  },
  {
   "cell_type": "code",
   "execution_count": null,
   "metadata": {},
   "outputs": [],
   "source": []
  }
 ],
 "metadata": {
  "kernelspec": {
   "display_name": "Python 3",
   "language": "python",
   "name": "python3"
  },
  "language_info": {
   "codemirror_mode": {
    "name": "ipython",
    "version": 3
   },
   "file_extension": ".py",
   "mimetype": "text/x-python",
   "name": "python",
   "nbconvert_exporter": "python",
   "pygments_lexer": "ipython3",
   "version": "3.5.2"
  }
 },
 "nbformat": 4,
 "nbformat_minor": 2
}
